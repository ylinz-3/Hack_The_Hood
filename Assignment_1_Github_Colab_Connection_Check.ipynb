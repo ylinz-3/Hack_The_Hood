{
  "nbformat": 4,
  "nbformat_minor": 0,
  "metadata": {
    "colab": {
      "provenance": [],
      "authorship_tag": "ABX9TyMbgxSWmFEyt+LUu6g1VKGx",
      "include_colab_link": true
    },
    "kernelspec": {
      "name": "python3",
      "display_name": "Python 3"
    },
    "language_info": {
      "name": "python"
    }
  },
  "cells": [
    {
      "cell_type": "markdown",
      "metadata": {
        "id": "view-in-github",
        "colab_type": "text"
      },
      "source": [
        "<a href=\"https://colab.research.google.com/github/ylinz-3/Hack_The_Hood/blob/main/Assignment_1_Github_Colab_Connection_Check.ipynb\" target=\"_parent\"><img src=\"https://colab.research.google.com/assets/colab-badge.svg\" alt=\"Open In Colab\"/></a>"
      ]
    },
    {
      "cell_type": "code",
      "execution_count": null,
      "metadata": {
        "id": "kkbGWGlR6nCq"
      },
      "outputs": [],
      "source": [
        "## Lin, Tiger team Tues: 1-3 Red\n",
        "## My instructors are Jazz and Yoline\n",
        "\n",
        "## Github profile: https://github.com/ylinz-3"
      ]
    },
    {
      "cell_type": "markdown",
      "source": [],
      "metadata": {
        "id": "ss8LftOk6q5P"
      }
    }
  ]
}